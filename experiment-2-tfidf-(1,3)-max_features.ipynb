{
 "cells": [
  {
   "cell_type": "code",
   "execution_count": 1,
   "metadata": {},
   "outputs": [
    {
     "name": "stdout",
     "output_type": "stream",
     "text": [
      "Requirement already satisfied: mlflow in c:\\users\\kunkaush1\\documents\\ml-dl\\dsmp\\yt-comment-analyzer\\venv\\lib\\site-packages (2.19.0)\n",
      "Requirement already satisfied: boto3 in c:\\users\\kunkaush1\\documents\\ml-dl\\dsmp\\yt-comment-analyzer\\venv\\lib\\site-packages (1.35.81)\n",
      "Requirement already satisfied: awscli in c:\\users\\kunkaush1\\documents\\ml-dl\\dsmp\\yt-comment-analyzer\\venv\\lib\\site-packages (1.36.22)\n",
      "Requirement already satisfied: mlflow-skinny==2.19.0 in c:\\users\\kunkaush1\\documents\\ml-dl\\dsmp\\yt-comment-analyzer\\venv\\lib\\site-packages (from mlflow) (2.19.0)\n",
      "Requirement already satisfied: Flask<4 in c:\\users\\kunkaush1\\appdata\\roaming\\python\\python311\\site-packages (from mlflow) (3.0.3)\n",
      "Requirement already satisfied: Jinja2<4,>=3.0 in c:\\users\\kunkaush1\\appdata\\roaming\\python\\python311\\site-packages (from mlflow) (3.1.4)\n",
      "Requirement already satisfied: alembic!=1.10.0,<2 in c:\\users\\kunkaush1\\documents\\ml-dl\\dsmp\\yt-comment-analyzer\\venv\\lib\\site-packages (from mlflow) (1.14.0)\n",
      "Requirement already satisfied: docker<8,>=4.0.0 in c:\\users\\kunkaush1\\documents\\ml-dl\\dsmp\\yt-comment-analyzer\\venv\\lib\\site-packages (from mlflow) (7.1.0)\n",
      "Requirement already satisfied: graphene<4 in c:\\users\\kunkaush1\\documents\\ml-dl\\dsmp\\yt-comment-analyzer\\venv\\lib\\site-packages (from mlflow) (3.4.3)\n",
      "Requirement already satisfied: markdown<4,>=3.3 in c:\\users\\kunkaush1\\documents\\ml-dl\\dsmp\\yt-comment-analyzer\\venv\\lib\\site-packages (from mlflow) (3.7)\n",
      "Requirement already satisfied: matplotlib<4 in c:\\users\\kunkaush1\\appdata\\roaming\\python\\python311\\site-packages (from mlflow) (3.8.4)\n",
      "Requirement already satisfied: numpy<3 in c:\\users\\kunkaush1\\appdata\\roaming\\python\\python311\\site-packages (from mlflow) (1.25.2)\n",
      "Requirement already satisfied: pandas<3 in c:\\users\\kunkaush1\\appdata\\roaming\\python\\python311\\site-packages (from mlflow) (2.2.2)\n",
      "Requirement already satisfied: pyarrow<19,>=4.0.0 in c:\\users\\kunkaush1\\appdata\\roaming\\python\\python311\\site-packages (from mlflow) (17.0.0)\n",
      "Requirement already satisfied: scikit-learn<2 in c:\\users\\kunkaush1\\appdata\\roaming\\python\\python311\\site-packages (from mlflow) (1.5.1)\n",
      "Requirement already satisfied: scipy<2 in c:\\users\\kunkaush1\\appdata\\roaming\\python\\python311\\site-packages (from mlflow) (1.13.0)\n",
      "Requirement already satisfied: sqlalchemy<3,>=1.4.0 in c:\\users\\kunkaush1\\appdata\\roaming\\python\\python311\\site-packages (from mlflow) (2.0.23)\n",
      "Requirement already satisfied: waitress<4 in c:\\users\\kunkaush1\\documents\\ml-dl\\dsmp\\yt-comment-analyzer\\venv\\lib\\site-packages (from mlflow) (3.0.2)\n",
      "Requirement already satisfied: cachetools<6,>=5.0.0 in c:\\users\\kunkaush1\\appdata\\roaming\\python\\python311\\site-packages (from mlflow-skinny==2.19.0->mlflow) (5.5.0)\n",
      "Requirement already satisfied: click<9,>=7.0 in c:\\users\\kunkaush1\\appdata\\roaming\\python\\python311\\site-packages (from mlflow-skinny==2.19.0->mlflow) (8.1.7)\n",
      "Requirement already satisfied: cloudpickle<4 in c:\\users\\kunkaush1\\documents\\ml-dl\\dsmp\\yt-comment-analyzer\\venv\\lib\\site-packages (from mlflow-skinny==2.19.0->mlflow) (3.1.0)\n",
      "Requirement already satisfied: databricks-sdk<1,>=0.20.0 in c:\\users\\kunkaush1\\documents\\ml-dl\\dsmp\\yt-comment-analyzer\\venv\\lib\\site-packages (from mlflow-skinny==2.19.0->mlflow) (0.39.0)\n",
      "Requirement already satisfied: gitpython<4,>=3.1.9 in c:\\users\\kunkaush1\\appdata\\roaming\\python\\python311\\site-packages (from mlflow-skinny==2.19.0->mlflow) (3.1.43)\n",
      "Requirement already satisfied: importlib_metadata!=4.7.0,<9,>=3.7.0 in c:\\users\\kunkaush1\\appdata\\roaming\\python\\python311\\site-packages (from mlflow-skinny==2.19.0->mlflow) (7.1.0)\n",
      "Requirement already satisfied: opentelemetry-api<3,>=1.9.0 in c:\\users\\kunkaush1\\appdata\\roaming\\python\\python311\\site-packages (from mlflow-skinny==2.19.0->mlflow) (1.26.0)\n",
      "Requirement already satisfied: opentelemetry-sdk<3,>=1.9.0 in c:\\users\\kunkaush1\\appdata\\roaming\\python\\python311\\site-packages (from mlflow-skinny==2.19.0->mlflow) (1.26.0)\n",
      "Requirement already satisfied: packaging<25 in c:\\users\\kunkaush1\\appdata\\roaming\\python\\python311\\site-packages (from mlflow-skinny==2.19.0->mlflow) (23.2)\n",
      "Requirement already satisfied: protobuf<6,>=3.12.0 in c:\\users\\kunkaush1\\appdata\\roaming\\python\\python311\\site-packages (from mlflow-skinny==2.19.0->mlflow) (4.25.4)\n",
      "Requirement already satisfied: pyyaml<7,>=5.1 in c:\\users\\kunkaush1\\appdata\\roaming\\python\\python311\\site-packages (from mlflow-skinny==2.19.0->mlflow) (6.0.1)\n",
      "Requirement already satisfied: requests<3,>=2.17.3 in c:\\users\\kunkaush1\\appdata\\roaming\\python\\python311\\site-packages (from mlflow-skinny==2.19.0->mlflow) (2.31.0)\n",
      "Requirement already satisfied: sqlparse<1,>=0.4.0 in c:\\users\\kunkaush1\\documents\\ml-dl\\dsmp\\yt-comment-analyzer\\venv\\lib\\site-packages (from mlflow-skinny==2.19.0->mlflow) (0.5.3)\n",
      "Requirement already satisfied: botocore<1.36.0,>=1.35.81 in c:\\users\\kunkaush1\\documents\\ml-dl\\dsmp\\yt-comment-analyzer\\venv\\lib\\site-packages (from boto3) (1.35.81)\n",
      "Requirement already satisfied: jmespath<2.0.0,>=0.7.1 in c:\\users\\kunkaush1\\documents\\ml-dl\\dsmp\\yt-comment-analyzer\\venv\\lib\\site-packages (from boto3) (1.0.1)\n",
      "Requirement already satisfied: s3transfer<0.11.0,>=0.10.0 in c:\\users\\kunkaush1\\documents\\ml-dl\\dsmp\\yt-comment-analyzer\\venv\\lib\\site-packages (from boto3) (0.10.4)\n",
      "Requirement already satisfied: docutils<0.17,>=0.10 in c:\\users\\kunkaush1\\documents\\ml-dl\\dsmp\\yt-comment-analyzer\\venv\\lib\\site-packages (from awscli) (0.16)\n",
      "Requirement already satisfied: colorama<0.4.7,>=0.2.5 in c:\\users\\kunkaush1\\appdata\\roaming\\python\\python311\\site-packages (from awscli) (0.4.6)\n",
      "Requirement already satisfied: rsa<4.8,>=3.1.2 in c:\\users\\kunkaush1\\documents\\ml-dl\\dsmp\\yt-comment-analyzer\\venv\\lib\\site-packages (from awscli) (4.7.2)\n",
      "Requirement already satisfied: python-dateutil<3.0.0,>=2.1 in c:\\users\\kunkaush1\\appdata\\roaming\\python\\python311\\site-packages (from botocore<1.36.0,>=1.35.81->boto3) (2.9.0.post0)\n",
      "Requirement already satisfied: urllib3!=2.2.0,<3,>=1.25.4 in c:\\users\\kunkaush1\\documents\\ml-dl\\dsmp\\yt-comment-analyzer\\venv\\lib\\site-packages (from botocore<1.36.0,>=1.35.81->boto3) (2.2.3)\n",
      "Requirement already satisfied: Mako in c:\\users\\kunkaush1\\documents\\ml-dl\\dsmp\\yt-comment-analyzer\\venv\\lib\\site-packages (from alembic!=1.10.0,<2->mlflow) (1.3.8)\n",
      "Requirement already satisfied: typing-extensions>=4 in c:\\users\\kunkaush1\\appdata\\roaming\\python\\python311\\site-packages (from alembic!=1.10.0,<2->mlflow) (4.12.2)\n",
      "Requirement already satisfied: pywin32>=304 in c:\\users\\kunkaush1\\appdata\\roaming\\python\\python311\\site-packages (from docker<8,>=4.0.0->mlflow) (306)\n",
      "Requirement already satisfied: Werkzeug>=3.0.0 in c:\\users\\kunkaush1\\appdata\\roaming\\python\\python311\\site-packages (from Flask<4->mlflow) (3.0.3)\n",
      "Requirement already satisfied: itsdangerous>=2.1.2 in c:\\users\\kunkaush1\\appdata\\roaming\\python\\python311\\site-packages (from Flask<4->mlflow) (2.2.0)\n",
      "Requirement already satisfied: blinker>=1.6.2 in c:\\users\\kunkaush1\\appdata\\roaming\\python\\python311\\site-packages (from Flask<4->mlflow) (1.8.2)\n",
      "Requirement already satisfied: graphql-core<3.3,>=3.1 in c:\\users\\kunkaush1\\documents\\ml-dl\\dsmp\\yt-comment-analyzer\\venv\\lib\\site-packages (from graphene<4->mlflow) (3.2.5)\n",
      "Requirement already satisfied: graphql-relay<3.3,>=3.1 in c:\\users\\kunkaush1\\documents\\ml-dl\\dsmp\\yt-comment-analyzer\\venv\\lib\\site-packages (from graphene<4->mlflow) (3.2.0)\n",
      "Requirement already satisfied: MarkupSafe>=2.0 in c:\\users\\kunkaush1\\appdata\\roaming\\python\\python311\\site-packages (from Jinja2<4,>=3.0->mlflow) (2.1.5)\n",
      "Requirement already satisfied: contourpy>=1.0.1 in c:\\users\\kunkaush1\\appdata\\roaming\\python\\python311\\site-packages (from matplotlib<4->mlflow) (1.2.1)\n",
      "Requirement already satisfied: cycler>=0.10 in c:\\users\\kunkaush1\\appdata\\roaming\\python\\python311\\site-packages (from matplotlib<4->mlflow) (0.12.1)\n",
      "Requirement already satisfied: fonttools>=4.22.0 in c:\\users\\kunkaush1\\appdata\\roaming\\python\\python311\\site-packages (from matplotlib<4->mlflow) (4.51.0)\n",
      "Requirement already satisfied: kiwisolver>=1.3.1 in c:\\users\\kunkaush1\\appdata\\roaming\\python\\python311\\site-packages (from matplotlib<4->mlflow) (1.4.5)\n",
      "Requirement already satisfied: pillow>=8 in c:\\users\\kunkaush1\\appdata\\roaming\\python\\python311\\site-packages (from matplotlib<4->mlflow) (10.3.0)\n",
      "Requirement already satisfied: pyparsing>=2.3.1 in c:\\users\\kunkaush1\\appdata\\roaming\\python\\python311\\site-packages (from matplotlib<4->mlflow) (3.1.2)\n",
      "Requirement already satisfied: pytz>=2020.1 in c:\\users\\kunkaush1\\appdata\\roaming\\python\\python311\\site-packages (from pandas<3->mlflow) (2024.1)\n",
      "Requirement already satisfied: tzdata>=2022.7 in c:\\users\\kunkaush1\\appdata\\roaming\\python\\python311\\site-packages (from pandas<3->mlflow) (2024.1)\n",
      "Requirement already satisfied: pyasn1>=0.1.3 in c:\\users\\kunkaush1\\appdata\\roaming\\python\\python311\\site-packages (from rsa<4.8,>=3.1.2->awscli) (0.6.0)\n",
      "Requirement already satisfied: joblib>=1.2.0 in c:\\users\\kunkaush1\\appdata\\roaming\\python\\python311\\site-packages (from scikit-learn<2->mlflow) (1.4.2)\n",
      "Requirement already satisfied: threadpoolctl>=3.1.0 in c:\\users\\kunkaush1\\appdata\\roaming\\python\\python311\\site-packages (from scikit-learn<2->mlflow) (3.5.0)\n",
      "Requirement already satisfied: greenlet!=0.4.17 in c:\\users\\kunkaush1\\appdata\\roaming\\python\\python311\\site-packages (from sqlalchemy<3,>=1.4.0->mlflow) (3.0.1)\n",
      "Requirement already satisfied: google-auth~=2.0 in c:\\users\\kunkaush1\\appdata\\roaming\\python\\python311\\site-packages (from databricks-sdk<1,>=0.20.0->mlflow-skinny==2.19.0->mlflow) (2.34.0)\n",
      "Requirement already satisfied: gitdb<5,>=4.0.1 in c:\\users\\kunkaush1\\appdata\\roaming\\python\\python311\\site-packages (from gitpython<4,>=3.1.9->mlflow-skinny==2.19.0->mlflow) (4.0.11)\n",
      "Requirement already satisfied: zipp>=0.5 in c:\\users\\kunkaush1\\appdata\\roaming\\python\\python311\\site-packages (from importlib_metadata!=4.7.0,<9,>=3.7.0->mlflow-skinny==2.19.0->mlflow) (3.18.1)\n",
      "Requirement already satisfied: deprecated>=1.2.6 in c:\\users\\kunkaush1\\appdata\\roaming\\python\\python311\\site-packages (from opentelemetry-api<3,>=1.9.0->mlflow-skinny==2.19.0->mlflow) (1.2.14)\n",
      "Requirement already satisfied: opentelemetry-semantic-conventions==0.47b0 in c:\\users\\kunkaush1\\appdata\\roaming\\python\\python311\\site-packages (from opentelemetry-sdk<3,>=1.9.0->mlflow-skinny==2.19.0->mlflow) (0.47b0)\n",
      "Requirement already satisfied: six>=1.5 in c:\\users\\kunkaush1\\appdata\\roaming\\python\\python311\\site-packages (from python-dateutil<3.0.0,>=2.1->botocore<1.36.0,>=1.35.81->boto3) (1.16.0)\n",
      "Requirement already satisfied: charset-normalizer<4,>=2 in c:\\users\\kunkaush1\\appdata\\roaming\\python\\python311\\site-packages (from requests<3,>=2.17.3->mlflow-skinny==2.19.0->mlflow) (3.2.0)\n",
      "Requirement already satisfied: idna<4,>=2.5 in c:\\users\\kunkaush1\\appdata\\roaming\\python\\python311\\site-packages (from requests<3,>=2.17.3->mlflow-skinny==2.19.0->mlflow) (3.4)\n",
      "Requirement already satisfied: certifi>=2017.4.17 in c:\\users\\kunkaush1\\appdata\\roaming\\python\\python311\\site-packages (from requests<3,>=2.17.3->mlflow-skinny==2.19.0->mlflow) (2023.7.22)\n",
      "Requirement already satisfied: wrapt<2,>=1.10 in c:\\users\\kunkaush1\\appdata\\roaming\\python\\python311\\site-packages (from deprecated>=1.2.6->opentelemetry-api<3,>=1.9.0->mlflow-skinny==2.19.0->mlflow) (1.16.0)\n",
      "Requirement already satisfied: smmap<6,>=3.0.1 in c:\\users\\kunkaush1\\appdata\\roaming\\python\\python311\\site-packages (from gitdb<5,>=4.0.1->gitpython<4,>=3.1.9->mlflow-skinny==2.19.0->mlflow) (5.0.1)\n",
      "Requirement already satisfied: pyasn1-modules>=0.2.1 in c:\\users\\kunkaush1\\appdata\\roaming\\python\\python311\\site-packages (from google-auth~=2.0->databricks-sdk<1,>=0.20.0->mlflow-skinny==2.19.0->mlflow) (0.4.0)\n"
     ]
    }
   ],
   "source": [
    "! pip install mlflow boto3 awscli"
   ]
  },
  {
   "cell_type": "code",
   "execution_count": 2,
   "metadata": {},
   "outputs": [],
   "source": [
    "import mlflow\n",
    "mlflow.set_tracking_uri(\"http://98.84.31.179:5000/\")"
   ]
  },
  {
   "cell_type": "code",
   "execution_count": 16,
   "metadata": {},
   "outputs": [
    {
     "name": "stderr",
     "output_type": "stream",
     "text": [
      "2024/12/15 18:16:13 INFO mlflow.tracking.fluent: Experiment with name 'Exp 3 - BOW Trigram max_feature' does not exist. Creating a new experiment.\n"
     ]
    },
    {
     "data": {
      "text/plain": [
       "<Experiment: artifact_location='s3://dsmp-mlflow-bucket/572963331633213831', creation_time=1734266793727, experiment_id='572963331633213831', last_update_time=1734266793727, lifecycle_stage='active', name='Exp 3 - BOW Trigram max_feature', tags={}>"
      ]
     },
     "execution_count": 16,
     "metadata": {},
     "output_type": "execute_result"
    }
   ],
   "source": [
    "# Set or create an experiment\n",
    "mlflow.set_experiment(\"Exp 3 - BOW Trigram max_feature\")\n",
    "# mlflow.delete_experiment(\"Exp 3 - TfIdf Trigram max_features\")"
   ]
  },
  {
   "cell_type": "code",
   "execution_count": 18,
   "metadata": {},
   "outputs": [],
   "source": [
    "from sklearn.feature_extraction.text import TfidfVectorizer,CountVectorizer\n",
    "from sklearn.ensemble import RandomForestClassifier\n",
    "from sklearn.model_selection import train_test_split\n",
    "from sklearn.metrics import accuracy_score, classification_report, confusion_matrix\n",
    "import mlflow\n",
    "import mlflow.sklearn\n",
    "import matplotlib.pyplot as plt\n",
    "import seaborn as sns\n",
    "import pandas as pd\n",
    "import os"
   ]
  },
  {
   "cell_type": "code",
   "execution_count": 19,
   "metadata": {},
   "outputs": [
    {
     "data": {
      "text/plain": [
       "(36662, 2)"
      ]
     },
     "execution_count": 19,
     "metadata": {},
     "output_type": "execute_result"
    }
   ],
   "source": [
    "df = pd.read_csv('reddit_preprocessing.csv').dropna(subset=['clean_comment'])\n",
    "df.shape"
   ]
  },
  {
   "cell_type": "code",
   "execution_count": 20,
   "metadata": {},
   "outputs": [
    {
     "name": "stderr",
     "output_type": "stream",
     "text": [
      "2024/12/15 18:17:06 WARNING mlflow.models.model: Model logged without a signature and input example. Please set `input_example` parameter when logging the model to auto infer the model signature.\n"
     ]
    },
    {
     "name": "stdout",
     "output_type": "stream",
     "text": [
      "🏃 View run BOW_Trigrams_max_features_1000 at: http://98.84.31.179:5000/#/experiments/572963331633213831/runs/cea985e43b8f45b4b2f039472ebaaa30\n",
      "🧪 View experiment at: http://98.84.31.179:5000/#/experiments/572963331633213831\n"
     ]
    },
    {
     "name": "stderr",
     "output_type": "stream",
     "text": [
      "2024/12/15 18:18:18 WARNING mlflow.models.model: Model logged without a signature and input example. Please set `input_example` parameter when logging the model to auto infer the model signature.\n"
     ]
    },
    {
     "name": "stdout",
     "output_type": "stream",
     "text": [
      "🏃 View run BOW_Trigrams_max_features_2000 at: http://98.84.31.179:5000/#/experiments/572963331633213831/runs/2eed7d120c394f8ca89bcbb19fd111db\n",
      "🧪 View experiment at: http://98.84.31.179:5000/#/experiments/572963331633213831\n"
     ]
    },
    {
     "name": "stderr",
     "output_type": "stream",
     "text": [
      "2024/12/15 18:19:32 WARNING mlflow.models.model: Model logged without a signature and input example. Please set `input_example` parameter when logging the model to auto infer the model signature.\n"
     ]
    },
    {
     "name": "stdout",
     "output_type": "stream",
     "text": [
      "🏃 View run BOW_Trigrams_max_features_3000 at: http://98.84.31.179:5000/#/experiments/572963331633213831/runs/6d9f8f1c400c4f2a90dd8bd5dcfa2ce4\n",
      "🧪 View experiment at: http://98.84.31.179:5000/#/experiments/572963331633213831\n"
     ]
    },
    {
     "name": "stderr",
     "output_type": "stream",
     "text": [
      "2024/12/15 18:20:47 WARNING mlflow.models.model: Model logged without a signature and input example. Please set `input_example` parameter when logging the model to auto infer the model signature.\n"
     ]
    },
    {
     "name": "stdout",
     "output_type": "stream",
     "text": [
      "🏃 View run BOW_Trigrams_max_features_4000 at: http://98.84.31.179:5000/#/experiments/572963331633213831/runs/6dfe23c34b664817bdfdb5a9c044393d\n",
      "🧪 View experiment at: http://98.84.31.179:5000/#/experiments/572963331633213831\n"
     ]
    },
    {
     "name": "stderr",
     "output_type": "stream",
     "text": [
      "2024/12/15 18:21:58 WARNING mlflow.models.model: Model logged without a signature and input example. Please set `input_example` parameter when logging the model to auto infer the model signature.\n"
     ]
    },
    {
     "name": "stdout",
     "output_type": "stream",
     "text": [
      "🏃 View run BOW_Trigrams_max_features_5000 at: http://98.84.31.179:5000/#/experiments/572963331633213831/runs/7263834a710442d1ad00bd69eabf2e19\n",
      "🧪 View experiment at: http://98.84.31.179:5000/#/experiments/572963331633213831\n"
     ]
    },
    {
     "name": "stderr",
     "output_type": "stream",
     "text": [
      "2024/12/15 18:23:09 WARNING mlflow.models.model: Model logged without a signature and input example. Please set `input_example` parameter when logging the model to auto infer the model signature.\n"
     ]
    },
    {
     "name": "stdout",
     "output_type": "stream",
     "text": [
      "🏃 View run BOW_Trigrams_max_features_6000 at: http://98.84.31.179:5000/#/experiments/572963331633213831/runs/0509cfdeaebe40a5bd74857e4ef4f814\n",
      "🧪 View experiment at: http://98.84.31.179:5000/#/experiments/572963331633213831\n"
     ]
    },
    {
     "name": "stderr",
     "output_type": "stream",
     "text": [
      "2024/12/15 18:24:22 WARNING mlflow.models.model: Model logged without a signature and input example. Please set `input_example` parameter when logging the model to auto infer the model signature.\n"
     ]
    },
    {
     "name": "stdout",
     "output_type": "stream",
     "text": [
      "🏃 View run BOW_Trigrams_max_features_7000 at: http://98.84.31.179:5000/#/experiments/572963331633213831/runs/e7e6421a39c840cd9db8d07713f45b52\n",
      "🧪 View experiment at: http://98.84.31.179:5000/#/experiments/572963331633213831\n"
     ]
    },
    {
     "name": "stderr",
     "output_type": "stream",
     "text": [
      "2024/12/15 18:25:42 WARNING mlflow.models.model: Model logged without a signature and input example. Please set `input_example` parameter when logging the model to auto infer the model signature.\n"
     ]
    },
    {
     "name": "stdout",
     "output_type": "stream",
     "text": [
      "🏃 View run BOW_Trigrams_max_features_8000 at: http://98.84.31.179:5000/#/experiments/572963331633213831/runs/1aca2f37357c4d9497cb3809a888a5ba\n",
      "🧪 View experiment at: http://98.84.31.179:5000/#/experiments/572963331633213831\n"
     ]
    },
    {
     "name": "stderr",
     "output_type": "stream",
     "text": [
      "2024/12/15 18:26:48 WARNING mlflow.models.model: Model logged without a signature and input example. Please set `input_example` parameter when logging the model to auto infer the model signature.\n"
     ]
    },
    {
     "name": "stdout",
     "output_type": "stream",
     "text": [
      "🏃 View run BOW_Trigrams_max_features_9000 at: http://98.84.31.179:5000/#/experiments/572963331633213831/runs/2c511d708a664f0faa7d45d3313e6038\n",
      "🧪 View experiment at: http://98.84.31.179:5000/#/experiments/572963331633213831\n"
     ]
    },
    {
     "name": "stderr",
     "output_type": "stream",
     "text": [
      "2024/12/15 18:27:54 WARNING mlflow.models.model: Model logged without a signature and input example. Please set `input_example` parameter when logging the model to auto infer the model signature.\n"
     ]
    },
    {
     "name": "stdout",
     "output_type": "stream",
     "text": [
      "🏃 View run BOW_Trigrams_max_features_10000 at: http://98.84.31.179:5000/#/experiments/572963331633213831/runs/865f94a872e74ae8b50fd0fdfeae4053\n",
      "🧪 View experiment at: http://98.84.31.179:5000/#/experiments/572963331633213831\n"
     ]
    }
   ],
   "source": [
    "# Step 1: Function to run the experiment\n",
    "def run_experiment_bow_max_features(max_features):\n",
    "    ngram_range = (1, 3)  # Trigram setting\n",
    "\n",
    "    # Step 2: Vectorization using TF-IDF with varying max_features\n",
    "    vectorizer = CountVectorizer(ngram_range=ngram_range, max_features=max_features)\n",
    "\n",
    "    X_train, X_test, y_train, y_test = train_test_split(df['clean_comment'], df['category'], test_size=0.2, random_state=42, stratify=df['category'])\n",
    "\n",
    "    X_train = vectorizer.fit_transform(X_train)\n",
    "    X_test = vectorizer.transform(X_test)\n",
    "\n",
    "    # Step 4: Define and train a Random Forest model\n",
    "    with mlflow.start_run() as run:\n",
    "        # Set tags for the experiment and run\n",
    "        mlflow.set_tag(\"mlflow.runName\", f\"BOW_Trigrams_max_features_{max_features}\")\n",
    "        mlflow.set_tag(\"experiment_type\", \"feature_engineering\")\n",
    "        mlflow.set_tag(\"model_type\", \"RandomForestClassifier\")\n",
    "\n",
    "        # Add a description\n",
    "        mlflow.set_tag(\"description\", f\"RandomForest with BOW Trigrams, max_features={max_features}\")\n",
    "\n",
    "        # Log vectorizer parameters\n",
    "        mlflow.log_param(\"vectorizer_type\", \"BOW\")\n",
    "        mlflow.log_param(\"ngram_range\", ngram_range)\n",
    "        mlflow.log_param(\"vectorizer_max_features\", max_features)\n",
    "\n",
    "        # Log Random Forest parameters\n",
    "        n_estimators = 200\n",
    "        max_depth = 15\n",
    "\n",
    "        mlflow.log_param(\"n_estimators\", n_estimators)\n",
    "        mlflow.log_param(\"max_depth\", max_depth)\n",
    "\n",
    "        # Initialize and train the model\n",
    "        model = RandomForestClassifier(n_estimators=n_estimators, max_depth=max_depth, random_state=42)\n",
    "        model.fit(X_train, y_train)\n",
    "\n",
    "        # Step 5: Make predictions and log metrics\n",
    "        y_pred = model.predict(X_test)\n",
    "\n",
    "        # Log accuracy\n",
    "        accuracy = accuracy_score(y_test, y_pred)\n",
    "        mlflow.log_metric(\"accuracy\", accuracy)\n",
    "\n",
    "        # Log classification report\n",
    "        classification_rep = classification_report(y_test, y_pred, output_dict=True)\n",
    "        for label, metrics in classification_rep.items():\n",
    "            if isinstance(metrics, dict):\n",
    "                for metric, value in metrics.items():\n",
    "                    mlflow.log_metric(f\"{label}_{metric}\", value)\n",
    "\n",
    "        # Log confusion matrix\n",
    "        conf_matrix = confusion_matrix(y_test, y_pred)\n",
    "        plt.figure(figsize=(8, 6))\n",
    "        sns.heatmap(conf_matrix, annot=True, fmt=\"d\", cmap=\"Blues\")\n",
    "        plt.xlabel(\"Predicted\")\n",
    "        plt.ylabel(\"Actual\")\n",
    "        plt.title(f\"Confusion Matrix: BOW Trigrams, max_features={max_features}\")\n",
    "        plt.savefig(\"confusion_matrix.png\")\n",
    "        mlflow.log_artifact(\"confusion_matrix.png\")\n",
    "        plt.close()\n",
    "\n",
    "        # Log the model\n",
    "        mlflow.sklearn.log_model(model, f\"random_forest_model_BOW_trigrams_{max_features}\")\n",
    "\n",
    "# Step 6: Test various max_features values\n",
    "max_features_values = [1000, 2000, 3000, 4000, 5000, 6000, 7000, 8000, 9000, 10000]\n",
    "\n",
    "for max_features in max_features_values:\n",
    "    run_experiment_bow_max_features(max_features)"
   ]
  },
  {
   "cell_type": "code",
   "execution_count": null,
   "metadata": {},
   "outputs": [],
   "source": []
  },
  {
   "cell_type": "code",
   "execution_count": null,
   "metadata": {},
   "outputs": [],
   "source": []
  }
 ],
 "metadata": {
  "kernelspec": {
   "display_name": "Python 3",
   "language": "python",
   "name": "python3"
  },
  "language_info": {
   "codemirror_mode": {
    "name": "ipython",
    "version": 3
   },
   "file_extension": ".py",
   "mimetype": "text/x-python",
   "name": "python",
   "nbconvert_exporter": "python",
   "pygments_lexer": "ipython3",
   "version": "3.11.0"
  }
 },
 "nbformat": 4,
 "nbformat_minor": 2
}
