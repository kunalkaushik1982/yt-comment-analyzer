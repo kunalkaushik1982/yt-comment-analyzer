{
 "cells": [
  {
   "cell_type": "code",
   "execution_count": 4,
   "metadata": {},
   "outputs": [
    {
     "name": "stdout",
     "output_type": "stream",
     "text": [
      "Requirement already satisfied: mlflow in c:\\users\\kunkaush1\\documents\\ml-dl\\dsmp\\yt-comment-analyzer\\venv\\lib\\site-packages (2.19.0)\n",
      "Requirement already satisfied: boto3 in c:\\users\\kunkaush1\\documents\\ml-dl\\dsmp\\yt-comment-analyzer\\venv\\lib\\site-packages (1.35.81)\n",
      "Requirement already satisfied: awscli in c:\\users\\kunkaush1\\documents\\ml-dl\\dsmp\\yt-comment-analyzer\\venv\\lib\\site-packages (1.36.22)\n",
      "Requirement already satisfied: optuna in c:\\users\\kunkaush1\\documents\\ml-dl\\dsmp\\yt-comment-analyzer\\venv\\lib\\site-packages (4.1.0)\n",
      "Requirement already satisfied: xgboost in c:\\users\\kunkaush1\\appdata\\roaming\\python\\python311\\site-packages (2.1.0)\n",
      "Requirement already satisfied: imbalanced-learn in c:\\users\\kunkaush1\\documents\\ml-dl\\dsmp\\yt-comment-analyzer\\venv\\lib\\site-packages (0.12.4)\n",
      "Collecting lightgbm\n",
      "  Downloading lightgbm-4.5.0-py3-none-win_amd64.whl.metadata (17 kB)\n",
      "Requirement already satisfied: mlflow-skinny==2.19.0 in c:\\users\\kunkaush1\\documents\\ml-dl\\dsmp\\yt-comment-analyzer\\venv\\lib\\site-packages (from mlflow) (2.19.0)\n",
      "Requirement already satisfied: Flask<4 in c:\\users\\kunkaush1\\appdata\\roaming\\python\\python311\\site-packages (from mlflow) (3.0.3)\n",
      "Requirement already satisfied: Jinja2<4,>=3.0 in c:\\users\\kunkaush1\\appdata\\roaming\\python\\python311\\site-packages (from mlflow) (3.1.4)\n",
      "Requirement already satisfied: alembic!=1.10.0,<2 in c:\\users\\kunkaush1\\documents\\ml-dl\\dsmp\\yt-comment-analyzer\\venv\\lib\\site-packages (from mlflow) (1.14.0)\n",
      "Requirement already satisfied: docker<8,>=4.0.0 in c:\\users\\kunkaush1\\documents\\ml-dl\\dsmp\\yt-comment-analyzer\\venv\\lib\\site-packages (from mlflow) (7.1.0)\n",
      "Requirement already satisfied: graphene<4 in c:\\users\\kunkaush1\\documents\\ml-dl\\dsmp\\yt-comment-analyzer\\venv\\lib\\site-packages (from mlflow) (3.4.3)\n",
      "Requirement already satisfied: markdown<4,>=3.3 in c:\\users\\kunkaush1\\documents\\ml-dl\\dsmp\\yt-comment-analyzer\\venv\\lib\\site-packages (from mlflow) (3.7)\n",
      "Requirement already satisfied: matplotlib<4 in c:\\users\\kunkaush1\\appdata\\roaming\\python\\python311\\site-packages (from mlflow) (3.8.4)\n",
      "Requirement already satisfied: numpy<3 in c:\\users\\kunkaush1\\appdata\\roaming\\python\\python311\\site-packages (from mlflow) (1.25.2)\n",
      "Requirement already satisfied: pandas<3 in c:\\users\\kunkaush1\\appdata\\roaming\\python\\python311\\site-packages (from mlflow) (2.2.2)\n",
      "Requirement already satisfied: pyarrow<19,>=4.0.0 in c:\\users\\kunkaush1\\appdata\\roaming\\python\\python311\\site-packages (from mlflow) (17.0.0)\n",
      "Requirement already satisfied: scikit-learn<2 in c:\\users\\kunkaush1\\appdata\\roaming\\python\\python311\\site-packages (from mlflow) (1.5.1)\n",
      "Requirement already satisfied: scipy<2 in c:\\users\\kunkaush1\\appdata\\roaming\\python\\python311\\site-packages (from mlflow) (1.13.0)\n",
      "Requirement already satisfied: sqlalchemy<3,>=1.4.0 in c:\\users\\kunkaush1\\appdata\\roaming\\python\\python311\\site-packages (from mlflow) (2.0.23)\n",
      "Requirement already satisfied: waitress<4 in c:\\users\\kunkaush1\\documents\\ml-dl\\dsmp\\yt-comment-analyzer\\venv\\lib\\site-packages (from mlflow) (3.0.2)\n",
      "Requirement already satisfied: cachetools<6,>=5.0.0 in c:\\users\\kunkaush1\\appdata\\roaming\\python\\python311\\site-packages (from mlflow-skinny==2.19.0->mlflow) (5.5.0)\n",
      "Requirement already satisfied: click<9,>=7.0 in c:\\users\\kunkaush1\\appdata\\roaming\\python\\python311\\site-packages (from mlflow-skinny==2.19.0->mlflow) (8.1.7)\n",
      "Requirement already satisfied: cloudpickle<4 in c:\\users\\kunkaush1\\documents\\ml-dl\\dsmp\\yt-comment-analyzer\\venv\\lib\\site-packages (from mlflow-skinny==2.19.0->mlflow) (3.1.0)\n",
      "Requirement already satisfied: databricks-sdk<1,>=0.20.0 in c:\\users\\kunkaush1\\documents\\ml-dl\\dsmp\\yt-comment-analyzer\\venv\\lib\\site-packages (from mlflow-skinny==2.19.0->mlflow) (0.39.0)\n",
      "Requirement already satisfied: gitpython<4,>=3.1.9 in c:\\users\\kunkaush1\\appdata\\roaming\\python\\python311\\site-packages (from mlflow-skinny==2.19.0->mlflow) (3.1.43)\n",
      "Requirement already satisfied: importlib_metadata!=4.7.0,<9,>=3.7.0 in c:\\users\\kunkaush1\\appdata\\roaming\\python\\python311\\site-packages (from mlflow-skinny==2.19.0->mlflow) (7.1.0)\n",
      "Requirement already satisfied: opentelemetry-api<3,>=1.9.0 in c:\\users\\kunkaush1\\appdata\\roaming\\python\\python311\\site-packages (from mlflow-skinny==2.19.0->mlflow) (1.26.0)\n",
      "Requirement already satisfied: opentelemetry-sdk<3,>=1.9.0 in c:\\users\\kunkaush1\\appdata\\roaming\\python\\python311\\site-packages (from mlflow-skinny==2.19.0->mlflow) (1.26.0)\n",
      "Requirement already satisfied: packaging<25 in c:\\users\\kunkaush1\\appdata\\roaming\\python\\python311\\site-packages (from mlflow-skinny==2.19.0->mlflow) (23.2)\n",
      "Requirement already satisfied: protobuf<6,>=3.12.0 in c:\\users\\kunkaush1\\appdata\\roaming\\python\\python311\\site-packages (from mlflow-skinny==2.19.0->mlflow) (4.25.4)\n",
      "Requirement already satisfied: pyyaml<7,>=5.1 in c:\\users\\kunkaush1\\appdata\\roaming\\python\\python311\\site-packages (from mlflow-skinny==2.19.0->mlflow) (6.0.1)\n",
      "Requirement already satisfied: requests<3,>=2.17.3 in c:\\users\\kunkaush1\\appdata\\roaming\\python\\python311\\site-packages (from mlflow-skinny==2.19.0->mlflow) (2.31.0)\n",
      "Requirement already satisfied: sqlparse<1,>=0.4.0 in c:\\users\\kunkaush1\\documents\\ml-dl\\dsmp\\yt-comment-analyzer\\venv\\lib\\site-packages (from mlflow-skinny==2.19.0->mlflow) (0.5.3)\n",
      "Requirement already satisfied: botocore<1.36.0,>=1.35.81 in c:\\users\\kunkaush1\\documents\\ml-dl\\dsmp\\yt-comment-analyzer\\venv\\lib\\site-packages (from boto3) (1.35.81)\n",
      "Requirement already satisfied: jmespath<2.0.0,>=0.7.1 in c:\\users\\kunkaush1\\documents\\ml-dl\\dsmp\\yt-comment-analyzer\\venv\\lib\\site-packages (from boto3) (1.0.1)\n",
      "Requirement already satisfied: s3transfer<0.11.0,>=0.10.0 in c:\\users\\kunkaush1\\documents\\ml-dl\\dsmp\\yt-comment-analyzer\\venv\\lib\\site-packages (from boto3) (0.10.4)\n",
      "Requirement already satisfied: docutils<0.17,>=0.10 in c:\\users\\kunkaush1\\documents\\ml-dl\\dsmp\\yt-comment-analyzer\\venv\\lib\\site-packages (from awscli) (0.16)\n",
      "Requirement already satisfied: colorama<0.4.7,>=0.2.5 in c:\\users\\kunkaush1\\appdata\\roaming\\python\\python311\\site-packages (from awscli) (0.4.6)\n",
      "Requirement already satisfied: rsa<4.8,>=3.1.2 in c:\\users\\kunkaush1\\documents\\ml-dl\\dsmp\\yt-comment-analyzer\\venv\\lib\\site-packages (from awscli) (4.7.2)\n",
      "Requirement already satisfied: python-dateutil<3.0.0,>=2.1 in c:\\users\\kunkaush1\\appdata\\roaming\\python\\python311\\site-packages (from botocore<1.36.0,>=1.35.81->boto3) (2.9.0.post0)\n",
      "Requirement already satisfied: urllib3!=2.2.0,<3,>=1.25.4 in c:\\users\\kunkaush1\\documents\\ml-dl\\dsmp\\yt-comment-analyzer\\venv\\lib\\site-packages (from botocore<1.36.0,>=1.35.81->boto3) (2.2.3)\n",
      "Requirement already satisfied: colorlog in c:\\users\\kunkaush1\\documents\\ml-dl\\dsmp\\yt-comment-analyzer\\venv\\lib\\site-packages (from optuna) (6.9.0)\n",
      "Requirement already satisfied: tqdm in c:\\users\\kunkaush1\\appdata\\roaming\\python\\python311\\site-packages (from optuna) (4.66.1)\n",
      "Requirement already satisfied: joblib>=1.1.1 in c:\\users\\kunkaush1\\appdata\\roaming\\python\\python311\\site-packages (from imbalanced-learn) (1.4.2)\n",
      "Requirement already satisfied: threadpoolctl>=2.0.0 in c:\\users\\kunkaush1\\appdata\\roaming\\python\\python311\\site-packages (from imbalanced-learn) (3.5.0)\n",
      "Requirement already satisfied: Mako in c:\\users\\kunkaush1\\documents\\ml-dl\\dsmp\\yt-comment-analyzer\\venv\\lib\\site-packages (from alembic!=1.10.0,<2->mlflow) (1.3.8)\n",
      "Requirement already satisfied: typing-extensions>=4 in c:\\users\\kunkaush1\\appdata\\roaming\\python\\python311\\site-packages (from alembic!=1.10.0,<2->mlflow) (4.12.2)\n",
      "Requirement already satisfied: pywin32>=304 in c:\\users\\kunkaush1\\appdata\\roaming\\python\\python311\\site-packages (from docker<8,>=4.0.0->mlflow) (306)\n",
      "Requirement already satisfied: Werkzeug>=3.0.0 in c:\\users\\kunkaush1\\appdata\\roaming\\python\\python311\\site-packages (from Flask<4->mlflow) (3.0.3)\n",
      "Requirement already satisfied: itsdangerous>=2.1.2 in c:\\users\\kunkaush1\\appdata\\roaming\\python\\python311\\site-packages (from Flask<4->mlflow) (2.2.0)\n",
      "Requirement already satisfied: blinker>=1.6.2 in c:\\users\\kunkaush1\\appdata\\roaming\\python\\python311\\site-packages (from Flask<4->mlflow) (1.8.2)\n",
      "Requirement already satisfied: graphql-core<3.3,>=3.1 in c:\\users\\kunkaush1\\documents\\ml-dl\\dsmp\\yt-comment-analyzer\\venv\\lib\\site-packages (from graphene<4->mlflow) (3.2.5)\n",
      "Requirement already satisfied: graphql-relay<3.3,>=3.1 in c:\\users\\kunkaush1\\documents\\ml-dl\\dsmp\\yt-comment-analyzer\\venv\\lib\\site-packages (from graphene<4->mlflow) (3.2.0)\n",
      "Requirement already satisfied: MarkupSafe>=2.0 in c:\\users\\kunkaush1\\appdata\\roaming\\python\\python311\\site-packages (from Jinja2<4,>=3.0->mlflow) (2.1.5)\n",
      "Requirement already satisfied: contourpy>=1.0.1 in c:\\users\\kunkaush1\\appdata\\roaming\\python\\python311\\site-packages (from matplotlib<4->mlflow) (1.2.1)\n",
      "Requirement already satisfied: cycler>=0.10 in c:\\users\\kunkaush1\\appdata\\roaming\\python\\python311\\site-packages (from matplotlib<4->mlflow) (0.12.1)\n",
      "Requirement already satisfied: fonttools>=4.22.0 in c:\\users\\kunkaush1\\appdata\\roaming\\python\\python311\\site-packages (from matplotlib<4->mlflow) (4.51.0)\n",
      "Requirement already satisfied: kiwisolver>=1.3.1 in c:\\users\\kunkaush1\\appdata\\roaming\\python\\python311\\site-packages (from matplotlib<4->mlflow) (1.4.5)\n",
      "Requirement already satisfied: pillow>=8 in c:\\users\\kunkaush1\\appdata\\roaming\\python\\python311\\site-packages (from matplotlib<4->mlflow) (10.3.0)\n",
      "Requirement already satisfied: pyparsing>=2.3.1 in c:\\users\\kunkaush1\\appdata\\roaming\\python\\python311\\site-packages (from matplotlib<4->mlflow) (3.1.2)\n",
      "Requirement already satisfied: pytz>=2020.1 in c:\\users\\kunkaush1\\appdata\\roaming\\python\\python311\\site-packages (from pandas<3->mlflow) (2024.1)\n",
      "Requirement already satisfied: tzdata>=2022.7 in c:\\users\\kunkaush1\\appdata\\roaming\\python\\python311\\site-packages (from pandas<3->mlflow) (2024.1)\n",
      "Requirement already satisfied: pyasn1>=0.1.3 in c:\\users\\kunkaush1\\appdata\\roaming\\python\\python311\\site-packages (from rsa<4.8,>=3.1.2->awscli) (0.6.0)\n",
      "Requirement already satisfied: greenlet!=0.4.17 in c:\\users\\kunkaush1\\appdata\\roaming\\python\\python311\\site-packages (from sqlalchemy<3,>=1.4.0->mlflow) (3.0.1)\n",
      "Requirement already satisfied: google-auth~=2.0 in c:\\users\\kunkaush1\\appdata\\roaming\\python\\python311\\site-packages (from databricks-sdk<1,>=0.20.0->mlflow-skinny==2.19.0->mlflow) (2.34.0)\n",
      "Requirement already satisfied: gitdb<5,>=4.0.1 in c:\\users\\kunkaush1\\appdata\\roaming\\python\\python311\\site-packages (from gitpython<4,>=3.1.9->mlflow-skinny==2.19.0->mlflow) (4.0.11)\n",
      "Requirement already satisfied: zipp>=0.5 in c:\\users\\kunkaush1\\appdata\\roaming\\python\\python311\\site-packages (from importlib_metadata!=4.7.0,<9,>=3.7.0->mlflow-skinny==2.19.0->mlflow) (3.18.1)\n",
      "Requirement already satisfied: deprecated>=1.2.6 in c:\\users\\kunkaush1\\appdata\\roaming\\python\\python311\\site-packages (from opentelemetry-api<3,>=1.9.0->mlflow-skinny==2.19.0->mlflow) (1.2.14)\n",
      "Requirement already satisfied: opentelemetry-semantic-conventions==0.47b0 in c:\\users\\kunkaush1\\appdata\\roaming\\python\\python311\\site-packages (from opentelemetry-sdk<3,>=1.9.0->mlflow-skinny==2.19.0->mlflow) (0.47b0)\n",
      "Requirement already satisfied: six>=1.5 in c:\\users\\kunkaush1\\appdata\\roaming\\python\\python311\\site-packages (from python-dateutil<3.0.0,>=2.1->botocore<1.36.0,>=1.35.81->boto3) (1.16.0)\n",
      "Requirement already satisfied: charset-normalizer<4,>=2 in c:\\users\\kunkaush1\\appdata\\roaming\\python\\python311\\site-packages (from requests<3,>=2.17.3->mlflow-skinny==2.19.0->mlflow) (3.2.0)\n",
      "Requirement already satisfied: idna<4,>=2.5 in c:\\users\\kunkaush1\\appdata\\roaming\\python\\python311\\site-packages (from requests<3,>=2.17.3->mlflow-skinny==2.19.0->mlflow) (3.4)\n",
      "Requirement already satisfied: certifi>=2017.4.17 in c:\\users\\kunkaush1\\appdata\\roaming\\python\\python311\\site-packages (from requests<3,>=2.17.3->mlflow-skinny==2.19.0->mlflow) (2023.7.22)\n",
      "Requirement already satisfied: wrapt<2,>=1.10 in c:\\users\\kunkaush1\\appdata\\roaming\\python\\python311\\site-packages (from deprecated>=1.2.6->opentelemetry-api<3,>=1.9.0->mlflow-skinny==2.19.0->mlflow) (1.16.0)\n",
      "Requirement already satisfied: smmap<6,>=3.0.1 in c:\\users\\kunkaush1\\appdata\\roaming\\python\\python311\\site-packages (from gitdb<5,>=4.0.1->gitpython<4,>=3.1.9->mlflow-skinny==2.19.0->mlflow) (5.0.1)\n",
      "Requirement already satisfied: pyasn1-modules>=0.2.1 in c:\\users\\kunkaush1\\appdata\\roaming\\python\\python311\\site-packages (from google-auth~=2.0->databricks-sdk<1,>=0.20.0->mlflow-skinny==2.19.0->mlflow) (0.4.0)\n",
      "Downloading lightgbm-4.5.0-py3-none-win_amd64.whl (1.4 MB)\n",
      "   ---------------------------------------- 0.0/1.4 MB ? eta -:--:--\n",
      "   ---------------------------------------- 1.4/1.4 MB 8.4 MB/s eta 0:00:00\n",
      "Installing collected packages: lightgbm\n",
      "Successfully installed lightgbm-4.5.0\n"
     ]
    }
   ],
   "source": [
    "! pip install mlflow boto3 awscli optuna xgboost imbalanced-learn lightgbm"
   ]
  },
  {
   "cell_type": "code",
   "execution_count": 2,
   "metadata": {},
   "outputs": [],
   "source": [
    "import mlflow\n",
    "mlflow.set_tracking_uri(\"http://98.84.31.179:5000/\")"
   ]
  },
  {
   "cell_type": "code",
   "execution_count": 3,
   "metadata": {},
   "outputs": [
    {
     "name": "stderr",
     "output_type": "stream",
     "text": [
      "2024/12/15 19:15:17 INFO mlflow.tracking.fluent: Experiment with name 'Exp 5 - ML Algos with HP Tuning' does not exist. Creating a new experiment.\n"
     ]
    },
    {
     "data": {
      "text/plain": [
       "<Experiment: artifact_location='s3://dsmp-mlflow-bucket/843005656731549383', creation_time=1734270337551, experiment_id='843005656731549383', last_update_time=1734270337551, lifecycle_stage='active', name='Exp 5 - ML Algos with HP Tuning', tags={}>"
      ]
     },
     "execution_count": 3,
     "metadata": {},
     "output_type": "execute_result"
    }
   ],
   "source": [
    "# Set or create an experiment\n",
    "mlflow.set_experiment(\"Exp 5 - ML Algos with HP Tuning\")"
   ]
  },
  {
   "cell_type": "code",
   "execution_count": 6,
   "metadata": {},
   "outputs": [],
   "source": [
    "import optuna\n",
    "import mlflow\n",
    "import mlflow.sklearn\n",
    "from sklearn.model_selection import train_test_split\n",
    "from sklearn.metrics import accuracy_score, classification_report\n",
    "from sklearn.feature_extraction.text import TfidfVectorizer , CountVectorizer\n",
    "from sklearn.linear_model import LogisticRegression\n",
    "from sklearn.svm import SVC\n",
    "from xgboost import XGBClassifier\n",
    "from lightgbm import LGBMClassifier\n",
    "from sklearn.neighbors import KNeighborsClassifier\n",
    "from sklearn.naive_bayes import MultinomialNB\n",
    "from sklearn.ensemble import RandomForestClassifier\n",
    "from imblearn.over_sampling import SMOTE\n",
    "import matplotlib.pyplot as plt\n",
    "import seaborn as sns\n",
    "import pandas as pd"
   ]
  },
  {
   "cell_type": "code",
   "execution_count": 7,
   "metadata": {},
   "outputs": [
    {
     "data": {
      "text/plain": [
       "(36662, 2)"
      ]
     },
     "execution_count": 7,
     "metadata": {},
     "output_type": "execute_result"
    }
   ],
   "source": [
    "df = pd.read_csv('reddit_preprocessing.csv').dropna()\n",
    "df.shape"
   ]
  },
  {
   "cell_type": "code",
   "execution_count": 8,
   "metadata": {},
   "outputs": [
    {
     "name": "stderr",
     "output_type": "stream",
     "text": [
      "[I 2024-12-15 19:22:16,203] A new study created in memory with name: no-name-c4859e2c-830c-44a6-a77c-b124ee74a6a0\n",
      "[I 2024-12-15 19:22:28,937] Trial 0 finished with value: 0.7245329333151507 and parameters: {'n_estimators': 174, 'learning_rate': 0.04025392741280094, 'max_depth': 7}. Best is trial 0 with value: 0.7245329333151507.\n",
      "[I 2024-12-15 19:22:35,036] Trial 1 finished with value: 0.5428883131051412 and parameters: {'n_estimators': 135, 'learning_rate': 0.001213130241137026, 'max_depth': 4}. Best is trial 0 with value: 0.7245329333151507.\n",
      "[I 2024-12-15 19:23:10,999] Trial 2 finished with value: 0.5787535797081685 and parameters: {'n_estimators': 230, 'learning_rate': 0.00010454537273051012, 'max_depth': 8}. Best is trial 0 with value: 0.7245329333151507.\n",
      "[I 2024-12-15 19:23:12,556] Trial 3 finished with value: 0.5229783171962362 and parameters: {'n_estimators': 67, 'learning_rate': 0.002141632917536649, 'max_depth': 3}. Best is trial 0 with value: 0.7245329333151507.\n",
      "[I 2024-12-15 19:23:48,998] Trial 4 finished with value: 0.6322105550252284 and parameters: {'n_estimators': 221, 'learning_rate': 0.0035456142912222467, 'max_depth': 8}. Best is trial 0 with value: 0.7245329333151507.\n",
      "[I 2024-12-15 19:24:59,775] Trial 5 finished with value: 0.604800218191736 and parameters: {'n_estimators': 244, 'learning_rate': 0.00010002161899783978, 'max_depth': 10}. Best is trial 0 with value: 0.7245329333151507.\n",
      "[I 2024-12-15 19:25:03,972] Trial 6 finished with value: 0.5428883131051412 and parameters: {'n_estimators': 87, 'learning_rate': 0.0015915218529640397, 'max_depth': 4}. Best is trial 0 with value: 0.7245329333151507.\n",
      "[I 2024-12-15 19:25:34,662] Trial 7 finished with value: 0.7962634665212055 and parameters: {'n_estimators': 246, 'learning_rate': 0.0791279330371323, 'max_depth': 8}. Best is trial 7 with value: 0.7962634665212055.\n",
      "[I 2024-12-15 19:25:41,849] Trial 8 finished with value: 0.578071730533206 and parameters: {'n_estimators': 63, 'learning_rate': 0.006562104007998978, 'max_depth': 6}. Best is trial 7 with value: 0.7962634665212055.\n",
      "[I 2024-12-15 19:26:05,121] Trial 9 finished with value: 0.5318423564707486 and parameters: {'n_estimators': 300, 'learning_rate': 0.00021863656609592613, 'max_depth': 5}. Best is trial 7 with value: 0.7962634665212055.\n",
      "[I 2024-12-15 19:26:51,382] Trial 10 finished with value: 0.803763807445793 and parameters: {'n_estimators': 291, 'learning_rate': 0.06386765920597638, 'max_depth': 10}. Best is trial 10 with value: 0.803763807445793.\n",
      "[I 2024-12-15 19:27:34,895] Trial 11 finished with value: 0.816309832265103 and parameters: {'n_estimators': 293, 'learning_rate': 0.08361553711423803, 'max_depth': 10}. Best is trial 11 with value: 0.816309832265103.\n",
      "[I 2024-12-15 19:28:34,971] Trial 12 finished with value: 0.7329878630846857 and parameters: {'n_estimators': 277, 'learning_rate': 0.01993490183433881, 'max_depth': 10}. Best is trial 11 with value: 0.816309832265103.\n",
      "[I 2024-12-15 19:29:47,277] Trial 13 finished with value: 0.7284876585299331 and parameters: {'n_estimators': 288, 'learning_rate': 0.018096864919892326, 'max_depth': 10}. Best is trial 11 with value: 0.816309832265103.\n",
      "[I 2024-12-15 19:30:18,468] Trial 14 finished with value: 0.7954452475112506 and parameters: {'n_estimators': 186, 'learning_rate': 0.09395952281044569, 'max_depth': 9}. Best is trial 11 with value: 0.816309832265103.\n",
      "[I 2024-12-15 19:31:10,595] Trial 15 finished with value: 0.7126687576708032 and parameters: {'n_estimators': 265, 'learning_rate': 0.01698864908347318, 'max_depth': 9}. Best is trial 11 with value: 0.816309832265103.\n",
      "[I 2024-12-15 19:31:40,489] Trial 16 finished with value: 0.7557616255284331 and parameters: {'n_estimators': 191, 'learning_rate': 0.045544575459054194, 'max_depth': 9}. Best is trial 11 with value: 0.816309832265103.\n",
      "[I 2024-12-15 19:31:58,150] Trial 17 finished with value: 0.6367107595799809 and parameters: {'n_estimators': 134, 'learning_rate': 0.008196026649006158, 'max_depth': 7}. Best is trial 11 with value: 0.816309832265103.\n",
      "[I 2024-12-15 19:32:46,800] Trial 18 finished with value: 0.7647620346379381 and parameters: {'n_estimators': 262, 'learning_rate': 0.03474799704905907, 'max_depth': 10}. Best is trial 11 with value: 0.816309832265103.\n",
      "[I 2024-12-15 19:33:06,146] Trial 19 finished with value: 0.5640256375289786 and parameters: {'n_estimators': 209, 'learning_rate': 0.0006770042362001183, 'max_depth': 6}. Best is trial 11 with value: 0.816309832265103.\n",
      "[I 2024-12-15 19:34:09,082] Trial 20 finished with value: 0.6706668484931133 and parameters: {'n_estimators': 299, 'learning_rate': 0.007217892325620904, 'max_depth': 9}. Best is trial 11 with value: 0.816309832265103.\n",
      "[I 2024-12-15 19:34:34,628] Trial 21 finished with value: 0.806763943815628 and parameters: {'n_estimators': 243, 'learning_rate': 0.0971617942713271, 'max_depth': 8}. Best is trial 11 with value: 0.816309832265103.\n",
      "[I 2024-12-15 19:35:03,731] Trial 22 finished with value: 0.790126823946543 and parameters: {'n_estimators': 266, 'learning_rate': 0.06665981616319926, 'max_depth': 8}. Best is trial 11 with value: 0.816309832265103.\n",
      "[I 2024-12-15 19:35:45,454] Trial 23 finished with value: 0.7411700531842357 and parameters: {'n_estimators': 246, 'learning_rate': 0.02780874752104464, 'max_depth': 9}. Best is trial 11 with value: 0.816309832265103.\n",
      "[I 2024-12-15 19:36:26,948] Trial 24 finished with value: 0.8197190781399154 and parameters: {'n_estimators': 281, 'learning_rate': 0.09158902083532394, 'max_depth': 10}. Best is trial 24 with value: 0.8197190781399154.\n",
      "[I 2024-12-15 19:36:48,043] Trial 25 finished with value: 0.808400381835538 and parameters: {'n_estimators': 278, 'learning_rate': 0.09999109896174874, 'max_depth': 7}. Best is trial 24 with value: 0.8197190781399154.\n",
      "[I 2024-12-15 19:37:20,349] Trial 26 finished with value: 0.6791217782626483 and parameters: {'n_estimators': 277, 'learning_rate': 0.012095540008994383, 'max_depth': 7}. Best is trial 24 with value: 0.8197190781399154.\n",
      "[I 2024-12-15 19:37:30,299] Trial 27 finished with value: 0.7179871812355108 and parameters: {'n_estimators': 160, 'learning_rate': 0.05357342391969961, 'max_depth': 5}. Best is trial 24 with value: 0.8197190781399154.\n",
      "[I 2024-12-15 19:37:46,895] Trial 28 finished with value: 0.7085776626210283 and parameters: {'n_estimators': 215, 'learning_rate': 0.028888729566232615, 'max_depth': 6}. Best is trial 24 with value: 0.8197190781399154.\n",
      "[I 2024-12-15 19:38:31,118] Trial 29 finished with value: 0.7691258693576981 and parameters: {'n_estimators': 276, 'learning_rate': 0.04043872194244598, 'max_depth': 9}. Best is trial 24 with value: 0.8197190781399154.\n",
      "2024/12/15 19:39:35 WARNING mlflow.models.model: Model logged without a signature and input example. Please set `input_example` parameter when logging the model to auto infer the model signature.\n"
     ]
    },
    {
     "name": "stdout",
     "output_type": "stream",
     "text": [
      "🏃 View run XGBoost_SMOTE_BOW_Trigrams at: http://98.84.31.179:5000/#/experiments/843005656731549383/runs/89b30926599748be806c93b7fabb9b07\n",
      "🧪 View experiment at: http://98.84.31.179:5000/#/experiments/843005656731549383\n"
     ]
    }
   ],
   "source": [
    "# Step 1: Remap the class labels from [-1, 0, 1] to [2, 0, 1]\n",
    "df['category'] = df['category'].map({-1: 2, 0: 0, 1: 1})\n",
    "\n",
    "# Step 2: Remove rows where the target labels (category) are NaN\n",
    "df = df.dropna(subset=['category'])\n",
    "\n",
    "ngram_range = (1, 3)  # Trigram setting\n",
    "max_features = 10000  # Set max_features to 1000 for BOW\n",
    "\n",
    "# Step 4: Train-test split before vectorization and resampling\n",
    "X_train, X_test, y_train, y_test = train_test_split(df['clean_comment'], df['category'], test_size=0.2, random_state=42, stratify=df['category'])\n",
    "\n",
    "# Step 2: Vectorization using BOW, fit on training data only\n",
    "vectorizer = CountVectorizer(ngram_range=ngram_range, max_features=max_features)\n",
    "X_train_vec = vectorizer.fit_transform(X_train)  # Fit on training data\n",
    "X_test_vec = vectorizer.transform(X_test)  # Transform test data\n",
    "\n",
    "smote = SMOTE(random_state=42)\n",
    "X_train_vec, y_train = smote.fit_resample(X_train_vec, y_train)\n",
    "\n",
    "# Function to log results in MLflow\n",
    "def log_mlflow(model_name, model, X_train, X_test, y_train, y_test):\n",
    "    with mlflow.start_run():\n",
    "        # Log model type\n",
    "        mlflow.set_tag(\"mlflow.runName\", f\"{model_name}_SMOTE_BOW_Trigrams\")\n",
    "        mlflow.set_tag(\"experiment_type\", \"algorithm_comparison\")\n",
    "\n",
    "        # Log algorithm name as a parameter\n",
    "        mlflow.log_param(\"algo_name\", model_name)\n",
    "\n",
    "        # Train model\n",
    "        model.fit(X_train, y_train)\n",
    "        y_pred = model.predict(X_test)\n",
    "\n",
    "        # Log accuracy\n",
    "        accuracy = accuracy_score(y_test, y_pred)\n",
    "        mlflow.log_metric(\"accuracy\", accuracy)\n",
    "\n",
    "        # Log classification report\n",
    "        classification_rep = classification_report(y_test, y_pred, output_dict=True)\n",
    "        for label, metrics in classification_rep.items():\n",
    "            if isinstance(metrics, dict):\n",
    "                for metric, value in metrics.items():\n",
    "                    mlflow.log_metric(f\"{label}_{metric}\", value)\n",
    "\n",
    "        # Log the model\n",
    "        mlflow.sklearn.log_model(model, f\"{model_name}_model\")\n",
    "\n",
    "\n",
    "# Step 6: Optuna objective function for XGBoost\n",
    "def objective_xgboost(trial):\n",
    "    n_estimators = trial.suggest_int('n_estimators', 50, 300)\n",
    "    learning_rate = trial.suggest_float('learning_rate', 1e-4, 1e-1, log=True)\n",
    "    max_depth = trial.suggest_int('max_depth', 3, 10)\n",
    "\n",
    "    model = XGBClassifier(n_estimators=n_estimators, learning_rate=learning_rate, max_depth=max_depth, random_state=42)\n",
    "    return accuracy_score(y_test, model.fit(X_train_vec, y_train).predict(X_test_vec))\n",
    "\n",
    "\n",
    "# Step 7: Run Optuna for XGBoost, log the best model only\n",
    "def run_optuna_experiment():\n",
    "    study = optuna.create_study(direction=\"maximize\")\n",
    "    study.optimize(objective_xgboost, n_trials=30)\n",
    "\n",
    "    # Get the best parameters and log only the best model\n",
    "    best_params = study.best_params\n",
    "    best_model = XGBClassifier(n_estimators=best_params['n_estimators'], learning_rate=best_params['learning_rate'], max_depth=best_params['max_depth'], random_state=42)\n",
    "\n",
    "    # Log the best model with MLflow, passing the algo_name as \"xgboost\"\n",
    "    log_mlflow(\"XGBoost\", best_model, X_train_vec, X_test_vec, y_train, y_test)\n",
    "\n",
    "# Run the experiment for XGBoost\n",
    "run_optuna_experiment()"
   ]
  }
 ],
 "metadata": {
  "kernelspec": {
   "display_name": "Python 3",
   "language": "python",
   "name": "python3"
  },
  "language_info": {
   "codemirror_mode": {
    "name": "ipython",
    "version": 3
   },
   "file_extension": ".py",
   "mimetype": "text/x-python",
   "name": "python",
   "nbconvert_exporter": "python",
   "pygments_lexer": "ipython3",
   "version": "3.11.0"
  }
 },
 "nbformat": 4,
 "nbformat_minor": 2
}
