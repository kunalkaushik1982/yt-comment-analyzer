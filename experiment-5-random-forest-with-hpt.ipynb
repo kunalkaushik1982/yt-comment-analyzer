{
 "cells": [
  {
   "cell_type": "code",
   "execution_count": 1,
   "metadata": {},
   "outputs": [
    {
     "name": "stdout",
     "output_type": "stream",
     "text": [
      "Requirement already satisfied: mlflow in c:\\users\\kunkaush1\\documents\\ml-dl\\dsmp\\yt-comment-analyzer\\venv\\lib\\site-packages (2.19.0)\n",
      "Requirement already satisfied: boto3 in c:\\users\\kunkaush1\\documents\\ml-dl\\dsmp\\yt-comment-analyzer\\venv\\lib\\site-packages (1.35.81)\n",
      "Requirement already satisfied: awscli in c:\\users\\kunkaush1\\documents\\ml-dl\\dsmp\\yt-comment-analyzer\\venv\\lib\\site-packages (1.36.22)\n",
      "Requirement already satisfied: optuna in c:\\users\\kunkaush1\\documents\\ml-dl\\dsmp\\yt-comment-analyzer\\venv\\lib\\site-packages (4.1.0)\n",
      "Requirement already satisfied: imbalanced-learn in c:\\users\\kunkaush1\\documents\\ml-dl\\dsmp\\yt-comment-analyzer\\venv\\lib\\site-packages (0.12.4)\n",
      "Requirement already satisfied: mlflow-skinny==2.19.0 in c:\\users\\kunkaush1\\documents\\ml-dl\\dsmp\\yt-comment-analyzer\\venv\\lib\\site-packages (from mlflow) (2.19.0)\n",
      "Requirement already satisfied: Flask<4 in c:\\users\\kunkaush1\\appdata\\roaming\\python\\python311\\site-packages (from mlflow) (3.0.3)\n",
      "Requirement already satisfied: Jinja2<4,>=3.0 in c:\\users\\kunkaush1\\appdata\\roaming\\python\\python311\\site-packages (from mlflow) (3.1.4)\n",
      "Requirement already satisfied: alembic!=1.10.0,<2 in c:\\users\\kunkaush1\\documents\\ml-dl\\dsmp\\yt-comment-analyzer\\venv\\lib\\site-packages (from mlflow) (1.14.0)\n",
      "Requirement already satisfied: docker<8,>=4.0.0 in c:\\users\\kunkaush1\\documents\\ml-dl\\dsmp\\yt-comment-analyzer\\venv\\lib\\site-packages (from mlflow) (7.1.0)\n",
      "Requirement already satisfied: graphene<4 in c:\\users\\kunkaush1\\documents\\ml-dl\\dsmp\\yt-comment-analyzer\\venv\\lib\\site-packages (from mlflow) (3.4.3)\n",
      "Requirement already satisfied: markdown<4,>=3.3 in c:\\users\\kunkaush1\\documents\\ml-dl\\dsmp\\yt-comment-analyzer\\venv\\lib\\site-packages (from mlflow) (3.7)\n",
      "Requirement already satisfied: matplotlib<4 in c:\\users\\kunkaush1\\appdata\\roaming\\python\\python311\\site-packages (from mlflow) (3.8.4)\n",
      "Requirement already satisfied: numpy<3 in c:\\users\\kunkaush1\\appdata\\roaming\\python\\python311\\site-packages (from mlflow) (1.25.2)\n",
      "Requirement already satisfied: pandas<3 in c:\\users\\kunkaush1\\appdata\\roaming\\python\\python311\\site-packages (from mlflow) (2.2.2)\n",
      "Requirement already satisfied: pyarrow<19,>=4.0.0 in c:\\users\\kunkaush1\\appdata\\roaming\\python\\python311\\site-packages (from mlflow) (17.0.0)\n",
      "Requirement already satisfied: scikit-learn<2 in c:\\users\\kunkaush1\\appdata\\roaming\\python\\python311\\site-packages (from mlflow) (1.5.1)\n",
      "Requirement already satisfied: scipy<2 in c:\\users\\kunkaush1\\appdata\\roaming\\python\\python311\\site-packages (from mlflow) (1.13.0)\n",
      "Requirement already satisfied: sqlalchemy<3,>=1.4.0 in c:\\users\\kunkaush1\\appdata\\roaming\\python\\python311\\site-packages (from mlflow) (2.0.23)\n",
      "Requirement already satisfied: waitress<4 in c:\\users\\kunkaush1\\documents\\ml-dl\\dsmp\\yt-comment-analyzer\\venv\\lib\\site-packages (from mlflow) (3.0.2)\n",
      "Requirement already satisfied: cachetools<6,>=5.0.0 in c:\\users\\kunkaush1\\appdata\\roaming\\python\\python311\\site-packages (from mlflow-skinny==2.19.0->mlflow) (5.5.0)\n",
      "Requirement already satisfied: click<9,>=7.0 in c:\\users\\kunkaush1\\appdata\\roaming\\python\\python311\\site-packages (from mlflow-skinny==2.19.0->mlflow) (8.1.7)\n",
      "Requirement already satisfied: cloudpickle<4 in c:\\users\\kunkaush1\\documents\\ml-dl\\dsmp\\yt-comment-analyzer\\venv\\lib\\site-packages (from mlflow-skinny==2.19.0->mlflow) (3.1.0)\n",
      "Requirement already satisfied: databricks-sdk<1,>=0.20.0 in c:\\users\\kunkaush1\\documents\\ml-dl\\dsmp\\yt-comment-analyzer\\venv\\lib\\site-packages (from mlflow-skinny==2.19.0->mlflow) (0.39.0)\n",
      "Requirement already satisfied: gitpython<4,>=3.1.9 in c:\\users\\kunkaush1\\appdata\\roaming\\python\\python311\\site-packages (from mlflow-skinny==2.19.0->mlflow) (3.1.43)\n",
      "Requirement already satisfied: importlib_metadata!=4.7.0,<9,>=3.7.0 in c:\\users\\kunkaush1\\appdata\\roaming\\python\\python311\\site-packages (from mlflow-skinny==2.19.0->mlflow) (7.1.0)\n",
      "Requirement already satisfied: opentelemetry-api<3,>=1.9.0 in c:\\users\\kunkaush1\\appdata\\roaming\\python\\python311\\site-packages (from mlflow-skinny==2.19.0->mlflow) (1.26.0)\n",
      "Requirement already satisfied: opentelemetry-sdk<3,>=1.9.0 in c:\\users\\kunkaush1\\appdata\\roaming\\python\\python311\\site-packages (from mlflow-skinny==2.19.0->mlflow) (1.26.0)\n",
      "Requirement already satisfied: packaging<25 in c:\\users\\kunkaush1\\appdata\\roaming\\python\\python311\\site-packages (from mlflow-skinny==2.19.0->mlflow) (23.2)\n",
      "Requirement already satisfied: protobuf<6,>=3.12.0 in c:\\users\\kunkaush1\\appdata\\roaming\\python\\python311\\site-packages (from mlflow-skinny==2.19.0->mlflow) (4.25.4)\n",
      "Requirement already satisfied: pyyaml<7,>=5.1 in c:\\users\\kunkaush1\\appdata\\roaming\\python\\python311\\site-packages (from mlflow-skinny==2.19.0->mlflow) (6.0.1)\n",
      "Requirement already satisfied: requests<3,>=2.17.3 in c:\\users\\kunkaush1\\appdata\\roaming\\python\\python311\\site-packages (from mlflow-skinny==2.19.0->mlflow) (2.31.0)\n",
      "Requirement already satisfied: sqlparse<1,>=0.4.0 in c:\\users\\kunkaush1\\documents\\ml-dl\\dsmp\\yt-comment-analyzer\\venv\\lib\\site-packages (from mlflow-skinny==2.19.0->mlflow) (0.5.3)\n",
      "Requirement already satisfied: botocore<1.36.0,>=1.35.81 in c:\\users\\kunkaush1\\documents\\ml-dl\\dsmp\\yt-comment-analyzer\\venv\\lib\\site-packages (from boto3) (1.35.81)\n",
      "Requirement already satisfied: jmespath<2.0.0,>=0.7.1 in c:\\users\\kunkaush1\\documents\\ml-dl\\dsmp\\yt-comment-analyzer\\venv\\lib\\site-packages (from boto3) (1.0.1)\n",
      "Requirement already satisfied: s3transfer<0.11.0,>=0.10.0 in c:\\users\\kunkaush1\\documents\\ml-dl\\dsmp\\yt-comment-analyzer\\venv\\lib\\site-packages (from boto3) (0.10.4)\n",
      "Requirement already satisfied: docutils<0.17,>=0.10 in c:\\users\\kunkaush1\\documents\\ml-dl\\dsmp\\yt-comment-analyzer\\venv\\lib\\site-packages (from awscli) (0.16)\n",
      "Requirement already satisfied: colorama<0.4.7,>=0.2.5 in c:\\users\\kunkaush1\\appdata\\roaming\\python\\python311\\site-packages (from awscli) (0.4.6)\n",
      "Requirement already satisfied: rsa<4.8,>=3.1.2 in c:\\users\\kunkaush1\\documents\\ml-dl\\dsmp\\yt-comment-analyzer\\venv\\lib\\site-packages (from awscli) (4.7.2)\n",
      "Requirement already satisfied: python-dateutil<3.0.0,>=2.1 in c:\\users\\kunkaush1\\appdata\\roaming\\python\\python311\\site-packages (from botocore<1.36.0,>=1.35.81->boto3) (2.9.0.post0)\n",
      "Requirement already satisfied: urllib3!=2.2.0,<3,>=1.25.4 in c:\\users\\kunkaush1\\documents\\ml-dl\\dsmp\\yt-comment-analyzer\\venv\\lib\\site-packages (from botocore<1.36.0,>=1.35.81->boto3) (2.2.3)\n",
      "Requirement already satisfied: colorlog in c:\\users\\kunkaush1\\documents\\ml-dl\\dsmp\\yt-comment-analyzer\\venv\\lib\\site-packages (from optuna) (6.9.0)\n",
      "Requirement already satisfied: tqdm in c:\\users\\kunkaush1\\appdata\\roaming\\python\\python311\\site-packages (from optuna) (4.66.1)\n",
      "Requirement already satisfied: joblib>=1.1.1 in c:\\users\\kunkaush1\\appdata\\roaming\\python\\python311\\site-packages (from imbalanced-learn) (1.4.2)\n",
      "Requirement already satisfied: threadpoolctl>=2.0.0 in c:\\users\\kunkaush1\\appdata\\roaming\\python\\python311\\site-packages (from imbalanced-learn) (3.5.0)\n",
      "Requirement already satisfied: Mako in c:\\users\\kunkaush1\\documents\\ml-dl\\dsmp\\yt-comment-analyzer\\venv\\lib\\site-packages (from alembic!=1.10.0,<2->mlflow) (1.3.8)\n",
      "Requirement already satisfied: typing-extensions>=4 in c:\\users\\kunkaush1\\appdata\\roaming\\python\\python311\\site-packages (from alembic!=1.10.0,<2->mlflow) (4.12.2)\n",
      "Requirement already satisfied: pywin32>=304 in c:\\users\\kunkaush1\\appdata\\roaming\\python\\python311\\site-packages (from docker<8,>=4.0.0->mlflow) (306)\n",
      "Requirement already satisfied: Werkzeug>=3.0.0 in c:\\users\\kunkaush1\\appdata\\roaming\\python\\python311\\site-packages (from Flask<4->mlflow) (3.0.3)\n",
      "Requirement already satisfied: itsdangerous>=2.1.2 in c:\\users\\kunkaush1\\appdata\\roaming\\python\\python311\\site-packages (from Flask<4->mlflow) (2.2.0)\n",
      "Requirement already satisfied: blinker>=1.6.2 in c:\\users\\kunkaush1\\appdata\\roaming\\python\\python311\\site-packages (from Flask<4->mlflow) (1.8.2)\n",
      "Requirement already satisfied: graphql-core<3.3,>=3.1 in c:\\users\\kunkaush1\\documents\\ml-dl\\dsmp\\yt-comment-analyzer\\venv\\lib\\site-packages (from graphene<4->mlflow) (3.2.5)\n",
      "Requirement already satisfied: graphql-relay<3.3,>=3.1 in c:\\users\\kunkaush1\\documents\\ml-dl\\dsmp\\yt-comment-analyzer\\venv\\lib\\site-packages (from graphene<4->mlflow) (3.2.0)\n",
      "Requirement already satisfied: MarkupSafe>=2.0 in c:\\users\\kunkaush1\\appdata\\roaming\\python\\python311\\site-packages (from Jinja2<4,>=3.0->mlflow) (2.1.5)\n",
      "Requirement already satisfied: contourpy>=1.0.1 in c:\\users\\kunkaush1\\appdata\\roaming\\python\\python311\\site-packages (from matplotlib<4->mlflow) (1.2.1)\n",
      "Requirement already satisfied: cycler>=0.10 in c:\\users\\kunkaush1\\appdata\\roaming\\python\\python311\\site-packages (from matplotlib<4->mlflow) (0.12.1)\n",
      "Requirement already satisfied: fonttools>=4.22.0 in c:\\users\\kunkaush1\\appdata\\roaming\\python\\python311\\site-packages (from matplotlib<4->mlflow) (4.51.0)\n",
      "Requirement already satisfied: kiwisolver>=1.3.1 in c:\\users\\kunkaush1\\appdata\\roaming\\python\\python311\\site-packages (from matplotlib<4->mlflow) (1.4.5)\n",
      "Requirement already satisfied: pillow>=8 in c:\\users\\kunkaush1\\appdata\\roaming\\python\\python311\\site-packages (from matplotlib<4->mlflow) (10.3.0)\n",
      "Requirement already satisfied: pyparsing>=2.3.1 in c:\\users\\kunkaush1\\appdata\\roaming\\python\\python311\\site-packages (from matplotlib<4->mlflow) (3.1.2)\n",
      "Requirement already satisfied: pytz>=2020.1 in c:\\users\\kunkaush1\\appdata\\roaming\\python\\python311\\site-packages (from pandas<3->mlflow) (2024.1)\n",
      "Requirement already satisfied: tzdata>=2022.7 in c:\\users\\kunkaush1\\appdata\\roaming\\python\\python311\\site-packages (from pandas<3->mlflow) (2024.1)\n",
      "Requirement already satisfied: pyasn1>=0.1.3 in c:\\users\\kunkaush1\\appdata\\roaming\\python\\python311\\site-packages (from rsa<4.8,>=3.1.2->awscli) (0.6.0)\n",
      "Requirement already satisfied: greenlet!=0.4.17 in c:\\users\\kunkaush1\\appdata\\roaming\\python\\python311\\site-packages (from sqlalchemy<3,>=1.4.0->mlflow) (3.0.1)\n",
      "Requirement already satisfied: google-auth~=2.0 in c:\\users\\kunkaush1\\appdata\\roaming\\python\\python311\\site-packages (from databricks-sdk<1,>=0.20.0->mlflow-skinny==2.19.0->mlflow) (2.34.0)\n",
      "Requirement already satisfied: gitdb<5,>=4.0.1 in c:\\users\\kunkaush1\\appdata\\roaming\\python\\python311\\site-packages (from gitpython<4,>=3.1.9->mlflow-skinny==2.19.0->mlflow) (4.0.11)\n",
      "Requirement already satisfied: zipp>=0.5 in c:\\users\\kunkaush1\\appdata\\roaming\\python\\python311\\site-packages (from importlib_metadata!=4.7.0,<9,>=3.7.0->mlflow-skinny==2.19.0->mlflow) (3.18.1)\n",
      "Requirement already satisfied: deprecated>=1.2.6 in c:\\users\\kunkaush1\\appdata\\roaming\\python\\python311\\site-packages (from opentelemetry-api<3,>=1.9.0->mlflow-skinny==2.19.0->mlflow) (1.2.14)\n",
      "Requirement already satisfied: opentelemetry-semantic-conventions==0.47b0 in c:\\users\\kunkaush1\\appdata\\roaming\\python\\python311\\site-packages (from opentelemetry-sdk<3,>=1.9.0->mlflow-skinny==2.19.0->mlflow) (0.47b0)\n",
      "Requirement already satisfied: six>=1.5 in c:\\users\\kunkaush1\\appdata\\roaming\\python\\python311\\site-packages (from python-dateutil<3.0.0,>=2.1->botocore<1.36.0,>=1.35.81->boto3) (1.16.0)\n",
      "Requirement already satisfied: charset-normalizer<4,>=2 in c:\\users\\kunkaush1\\appdata\\roaming\\python\\python311\\site-packages (from requests<3,>=2.17.3->mlflow-skinny==2.19.0->mlflow) (3.2.0)\n",
      "Requirement already satisfied: idna<4,>=2.5 in c:\\users\\kunkaush1\\appdata\\roaming\\python\\python311\\site-packages (from requests<3,>=2.17.3->mlflow-skinny==2.19.0->mlflow) (3.4)\n",
      "Requirement already satisfied: certifi>=2017.4.17 in c:\\users\\kunkaush1\\appdata\\roaming\\python\\python311\\site-packages (from requests<3,>=2.17.3->mlflow-skinny==2.19.0->mlflow) (2023.7.22)\n",
      "Requirement already satisfied: wrapt<2,>=1.10 in c:\\users\\kunkaush1\\appdata\\roaming\\python\\python311\\site-packages (from deprecated>=1.2.6->opentelemetry-api<3,>=1.9.0->mlflow-skinny==2.19.0->mlflow) (1.16.0)\n",
      "Requirement already satisfied: smmap<6,>=3.0.1 in c:\\users\\kunkaush1\\appdata\\roaming\\python\\python311\\site-packages (from gitdb<5,>=4.0.1->gitpython<4,>=3.1.9->mlflow-skinny==2.19.0->mlflow) (5.0.1)\n",
      "Requirement already satisfied: pyasn1-modules>=0.2.1 in c:\\users\\kunkaush1\\appdata\\roaming\\python\\python311\\site-packages (from google-auth~=2.0->databricks-sdk<1,>=0.20.0->mlflow-skinny==2.19.0->mlflow) (0.4.0)\n"
     ]
    }
   ],
   "source": [
    "! pip install mlflow boto3 awscli optuna imbalanced-learn"
   ]
  },
  {
   "cell_type": "code",
   "execution_count": 6,
   "metadata": {},
   "outputs": [],
   "source": [
    "import pandas as pd\n",
    "from sklearn.feature_extraction.text import TfidfVectorizer,CountVectorizer\n",
    "from sklearn.model_selection import train_test_split\n",
    "from sklearn.ensemble import RandomForestClassifier\n",
    "from sklearn.metrics import accuracy_score, classification_report\n",
    "from imblearn.over_sampling import SMOTE\n",
    "import mlflow\n",
    "import mlflow.sklearn\n",
    "import optuna"
   ]
  },
  {
   "cell_type": "code",
   "execution_count": 3,
   "metadata": {},
   "outputs": [],
   "source": [
    "import mlflow\n",
    "mlflow.set_tracking_uri(\"http://98.84.31.179:5000/\")"
   ]
  },
  {
   "cell_type": "code",
   "execution_count": 4,
   "metadata": {},
   "outputs": [
    {
     "data": {
      "text/plain": [
       "<Experiment: artifact_location='s3://dsmp-mlflow-bucket/287048950003727427', creation_time=1734272062530, experiment_id='287048950003727427', last_update_time=1734272062530, lifecycle_stage='active', name='ML Algos with HP Tuning', tags={}>"
      ]
     },
     "execution_count": 4,
     "metadata": {},
     "output_type": "execute_result"
    }
   ],
   "source": [
    "# Set or create an experiment\n",
    "mlflow.set_experiment(\"ML Algos with HP Tuning\")"
   ]
  },
  {
   "cell_type": "code",
   "execution_count": 5,
   "metadata": {},
   "outputs": [
    {
     "data": {
      "text/plain": [
       "(36662, 2)"
      ]
     },
     "execution_count": 5,
     "metadata": {},
     "output_type": "execute_result"
    }
   ],
   "source": [
    "df = pd.read_csv('reddit_preprocessing.csv').dropna()\n",
    "df.shape"
   ]
  },
  {
   "cell_type": "code",
   "execution_count": null,
   "metadata": {},
   "outputs": [
    {
     "name": "stderr",
     "output_type": "stream",
     "text": [
      "[I 2024-12-15 20:24:38,758] A new study created in memory with name: no-name-5a3655a8-8356-4ef2-838b-019233a5aff9\n",
      "[I 2024-12-15 20:24:42,481] Trial 0 finished with value: 0.6150919467343057 and parameters: {'n_estimators': 269, 'max_depth': 7, 'min_samples_split': 13, 'min_samples_leaf': 17}. Best is trial 0 with value: 0.6150919467343057.\n",
      "[I 2024-12-15 20:24:48,427] Trial 1 finished with value: 0.6341154090044389 and parameters: {'n_estimators': 247, 'max_depth': 11, 'min_samples_split': 9, 'min_samples_leaf': 2}. Best is trial 1 with value: 0.6341154090044389.\n",
      "[I 2024-12-15 20:24:51,799] Trial 2 finished with value: 0.6085394208412598 and parameters: {'n_estimators': 242, 'max_depth': 5, 'min_samples_split': 17, 'min_samples_leaf': 17}. Best is trial 1 with value: 0.6341154090044389.\n",
      "[I 2024-12-15 20:24:55,803] Trial 3 finished with value: 0.6526104417670683 and parameters: {'n_estimators': 165, 'max_depth': 20, 'min_samples_split': 20, 'min_samples_leaf': 15}. Best is trial 3 with value: 0.6526104417670683.\n",
      "[I 2024-12-15 20:25:00,972] Trial 4 finished with value: 0.652716127668569 and parameters: {'n_estimators': 210, 'max_depth': 20, 'min_samples_split': 4, 'min_samples_leaf': 15}. Best is trial 4 with value: 0.652716127668569.\n",
      "[I 2024-12-15 20:25:02,614] Trial 5 finished with value: 0.6538786725850771 and parameters: {'n_estimators': 67, 'max_depth': 20, 'min_samples_split': 3, 'min_samples_leaf': 20}. Best is trial 5 with value: 0.6538786725850771.\n",
      "[I 2024-12-15 20:25:06,744] Trial 6 finished with value: 0.6223842739378567 and parameters: {'n_estimators': 270, 'max_depth': 9, 'min_samples_split': 11, 'min_samples_leaf': 20}. Best is trial 5 with value: 0.6538786725850771.\n",
      "[I 2024-12-15 20:25:08,987] Trial 7 finished with value: 0.626717395899387 and parameters: {'n_estimators': 132, 'max_depth': 10, 'min_samples_split': 4, 'min_samples_leaf': 7}. Best is trial 5 with value: 0.6538786725850771.\n",
      "[I 2024-12-15 20:25:11,204] Trial 8 finished with value: 0.6264003381948848 and parameters: {'n_estimators': 126, 'max_depth': 10, 'min_samples_split': 5, 'min_samples_leaf': 2}. Best is trial 5 with value: 0.6538786725850771.\n",
      "[I 2024-12-15 20:25:16,139] Trial 9 finished with value: 0.6496512365250475 and parameters: {'n_estimators': 173, 'max_depth': 16, 'min_samples_split': 12, 'min_samples_leaf': 5}. Best is trial 5 with value: 0.6538786725850771.\n",
      "[I 2024-12-15 20:25:17,503] Trial 10 finished with value: 0.6346438385119425 and parameters: {'n_estimators': 51, 'max_depth': 15, 'min_samples_split': 2, 'min_samples_leaf': 10}. Best is trial 5 with value: 0.6538786725850771.\n",
      "[I 2024-12-15 20:25:19,035] Trial 11 finished with value: 0.6538786725850771 and parameters: {'n_estimators': 58, 'max_depth': 20, 'min_samples_split': 7, 'min_samples_leaf': 13}. Best is trial 5 with value: 0.6538786725850771.\n",
      "[I 2024-12-15 20:25:20,327] Trial 12 finished with value: 0.6399281335869795 and parameters: {'n_estimators': 53, 'max_depth': 16, 'min_samples_split': 7, 'min_samples_leaf': 11}. Best is trial 5 with value: 0.6538786725850771.\n",
      "[I 2024-12-15 20:25:22,161] Trial 13 finished with value: 0.6519763263580638 and parameters: {'n_estimators': 87, 'max_depth': 18, 'min_samples_split': 7, 'min_samples_leaf': 20}. Best is trial 5 with value: 0.6538786725850771.\n",
      "[I 2024-12-15 20:25:24,084] Trial 14 finished with value: 0.6391883322764743 and parameters: {'n_estimators': 95, 'max_depth': 14, 'min_samples_split': 2, 'min_samples_leaf': 12}. Best is trial 5 with value: 0.6538786725850771.\n",
      "[I 2024-12-15 20:25:25,762] Trial 15 finished with value: 0.6333756076939336 and parameters: {'n_estimators': 89, 'max_depth': 13, 'min_samples_split': 8, 'min_samples_leaf': 14}. Best is trial 5 with value: 0.6538786725850771.\n",
      "[I 2024-12-15 20:25:29,270] Trial 16 finished with value: 0.6548298456985838 and parameters: {'n_estimators': 133, 'max_depth': 18, 'min_samples_split': 5, 'min_samples_leaf': 8}. Best is trial 16 with value: 0.6548298456985838.\n",
      "[I 2024-12-15 20:25:33,350] Trial 17 finished with value: 0.6541957302895793 and parameters: {'n_estimators': 135, 'max_depth': 18, 'min_samples_split': 15, 'min_samples_leaf': 8}. Best is trial 16 with value: 0.6548298456985838.\n",
      "[I 2024-12-15 20:25:37,152] Trial 18 finished with value: 0.6531388712745719 and parameters: {'n_estimators': 141, 'max_depth': 17, 'min_samples_split': 15, 'min_samples_leaf': 8}. Best is trial 16 with value: 0.6548298456985838.\n",
      "[I 2024-12-15 20:25:41,891] Trial 19 finished with value: 0.6420418516169943 and parameters: {'n_estimators': 207, 'max_depth': 13, 'min_samples_split': 17, 'min_samples_leaf': 5}. Best is trial 16 with value: 0.6548298456985838.\n",
      "[I 2024-12-15 20:25:43,082] Trial 20 finished with value: 0.570281124497992 and parameters: {'n_estimators': 118, 'max_depth': 3, 'min_samples_split': 14, 'min_samples_leaf': 9}. Best is trial 16 with value: 0.6548298456985838.\n",
      "[I 2024-12-15 20:25:49,483] Trial 21 finished with value: 0.6556753329105898 and parameters: {'n_estimators': 154, 'max_depth': 18, 'min_samples_split': 10, 'min_samples_leaf': 5}. Best is trial 21 with value: 0.6556753329105898.\n",
      "[I 2024-12-15 20:25:58,168] Trial 22 finished with value: 0.6548298456985838 and parameters: {'n_estimators': 153, 'max_depth': 18, 'min_samples_split': 10, 'min_samples_leaf': 6}. Best is trial 21 with value: 0.6556753329105898.\n",
      "[I 2024-12-15 20:26:10,497] Trial 23 finished with value: 0.6570492496300994 and parameters: {'n_estimators': 197, 'max_depth': 18, 'min_samples_split': 10, 'min_samples_leaf': 5}. Best is trial 23 with value: 0.6570492496300994.\n",
      "[I 2024-12-15 20:26:23,383] Trial 24 finished with value: 0.6544071020925808 and parameters: {'n_estimators': 194, 'max_depth': 18, 'min_samples_split': 6, 'min_samples_leaf': 4}. Best is trial 23 with value: 0.6570492496300994.\n",
      "[I 2024-12-15 20:26:34,499] Trial 25 finished with value: 0.6517649545550623 and parameters: {'n_estimators': 185, 'max_depth': 16, 'min_samples_split': 10, 'min_samples_leaf': 3}. Best is trial 23 with value: 0.6570492496300994.\n",
      "[I 2024-12-15 20:26:45,474] Trial 26 finished with value: 0.6427816529274994 and parameters: {'n_estimators': 224, 'max_depth': 14, 'min_samples_split': 9, 'min_samples_leaf': 6}. Best is trial 23 with value: 0.6570492496300994.\n",
      "[I 2024-12-15 20:26:52,626] Trial 27 finished with value: 0.6585288522511097 and parameters: {'n_estimators': 111, 'max_depth': 19, 'min_samples_split': 11, 'min_samples_leaf': 4}. Best is trial 27 with value: 0.6585288522511097.\n",
      "[I 2024-12-15 20:27:08,973] Trial 28 finished with value: 0.6560980765165927 and parameters: {'n_estimators': 300, 'max_depth': 19, 'min_samples_split': 12, 'min_samples_leaf': 1}. Best is trial 27 with value: 0.6585288522511097.\n"
     ]
    }
   ],
   "source": [
    "# Step 1: (Optional) Remapping - skipped since not strictly needed for Random Forest\n",
    "\n",
    "# Step 2: Remove rows where the target labels (category) are NaN\n",
    "df = df.dropna(subset=['category'])\n",
    "\n",
    "# Step 3: BOW vectorizer setup\n",
    "ngram_range = (1, 3)  # Trigram\n",
    "max_features = 1000  # Set max_features to 1000\n",
    "vectorizer = CountVectorizer(ngram_range=ngram_range, max_features=max_features)\n",
    "X = vectorizer.fit_transform(df['clean_comment'])\n",
    "y = df['category']\n",
    "\n",
    "# Step 4: Apply SMOTE to handle class imbalance\n",
    "smote = SMOTE(random_state=42)\n",
    "X_resampled, y_resampled = smote.fit_resample(X, y)\n",
    "\n",
    "# Step 5: Train-test split\n",
    "X_train, X_test, y_train, y_test = train_test_split(X_resampled, y_resampled, test_size=0.2, random_state=42, stratify=y_resampled)\n",
    "\n",
    "# Function to log results in MLflow\n",
    "def log_mlflow(model_name, model, X_train, X_test, y_train, y_test):\n",
    "    with mlflow.start_run():\n",
    "        # Log model type\n",
    "        mlflow.set_tag(\"mlflow.runName\", f\"{model_name}_SMOTE_BOW_Trigrams\")\n",
    "        mlflow.set_tag(\"experiment_type\", \"algorithm_comparison\")\n",
    "\n",
    "        # Log algorithm name as a parameter\n",
    "        mlflow.log_param(\"algo_name\", model_name)\n",
    "\n",
    "        # Train model\n",
    "        model.fit(X_train, y_train)\n",
    "        y_pred = model.predict(X_test)\n",
    "\n",
    "        # Log accuracy\n",
    "        accuracy = accuracy_score(y_test, y_pred)\n",
    "        mlflow.log_metric(\"accuracy\", accuracy)\n",
    "\n",
    "        # Log classification report\n",
    "        classification_rep = classification_report(y_test, y_pred, output_dict=True)\n",
    "        for label, metrics in classification_rep.items():\n",
    "            if isinstance(metrics, dict):\n",
    "                for metric, value in metrics.items():\n",
    "                    mlflow.log_metric(f\"{label}_{metric}\", value)\n",
    "\n",
    "        # Log the model\n",
    "        mlflow.sklearn.log_model(model, f\"{model_name}_model\")\n",
    "\n",
    "\n",
    "# Step 6: Optuna objective function for Random Forest\n",
    "def objective_rf(trial):\n",
    "    n_estimators = trial.suggest_int('n_estimators', 50, 300)  # Number of trees in the forest\n",
    "    max_depth = trial.suggest_int('max_depth', 3, 20)  # Maximum depth of the tree\n",
    "    min_samples_split = trial.suggest_int('min_samples_split', 2, 20)  # Minimum samples required to split a node\n",
    "    min_samples_leaf = trial.suggest_int('min_samples_leaf', 1, 20)  # Minimum samples required at a leaf node\n",
    "\n",
    "    # RandomForestClassifier setup\n",
    "    model = RandomForestClassifier(n_estimators=n_estimators, max_depth=max_depth,\n",
    "                                   min_samples_split=min_samples_split, min_samples_leaf=min_samples_leaf,\n",
    "                                   random_state=42)\n",
    "    return accuracy_score(y_test, model.fit(X_train, y_train).predict(X_test))\n",
    "\n",
    "\n",
    "# Step 7: Run Optuna for Random Forest, log the best model only\n",
    "def run_optuna_experiment():\n",
    "    study = optuna.create_study(direction=\"maximize\")\n",
    "    study.optimize(objective_rf, n_trials=30)\n",
    "\n",
    "    # Get the best parameters and log only the best model\n",
    "    best_params = study.best_params\n",
    "    best_model = RandomForestClassifier(n_estimators=best_params['n_estimators'],\n",
    "                                        max_depth=best_params['max_depth'],\n",
    "                                        min_samples_split=best_params['min_samples_split'],\n",
    "                                        min_samples_leaf=best_params['min_samples_leaf'],\n",
    "                                        random_state=42)\n",
    "\n",
    "    # Log the best model with MLflow, passing the algo_name as \"RandomForest\"\n",
    "    log_mlflow(\"RandomForest\", best_model, X_train, X_test, y_train, y_test)\n",
    "\n",
    "# Run the experiment for Random Forest\n",
    "run_optuna_experiment()\n"
   ]
  }
 ],
 "metadata": {
  "kernelspec": {
   "display_name": "Python 3",
   "language": "python",
   "name": "python3"
  },
  "language_info": {
   "codemirror_mode": {
    "name": "ipython",
    "version": 3
   },
   "file_extension": ".py",
   "mimetype": "text/x-python",
   "name": "python",
   "nbconvert_exporter": "python",
   "pygments_lexer": "ipython3",
   "version": "3.11.0"
  }
 },
 "nbformat": 4,
 "nbformat_minor": 2
}
